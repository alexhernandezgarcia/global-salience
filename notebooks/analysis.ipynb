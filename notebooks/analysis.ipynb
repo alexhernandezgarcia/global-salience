{
 "cells": [
  {
   "cell_type": "markdown",
   "metadata": {},
   "source": [
    "#### Imports"
   ]
  },
  {
   "cell_type": "code",
   "execution_count": 1,
   "metadata": {},
   "outputs": [],
   "source": [
    "import numpy as np\n",
    "import pandas as pd\n",
    "\n",
    "import pickle\n",
    "from scipy.io import loadmat\n",
    "import yaml\n",
    "\n",
    "# Plotting\n",
    "import seaborn as sns\n",
    "import matplotlib.pyplot as plt\n",
    "from matplotlib.lines import Line2D\n",
    "%matplotlib inline\n",
    "\n",
    "# import scipy"
   ]
  },
  {
   "cell_type": "markdown",
   "metadata": {},
   "source": [
    "# Load data, create data structures and pre-processing"
   ]
  },
  {
   "cell_type": "markdown",
   "metadata": {},
   "source": [
    "## Fixations"
   ]
  },
  {
   "cell_type": "markdown",
   "metadata": {},
   "source": [
    "#### Read CSVs as DataFrame"
   ]
  },
  {
   "cell_type": "code",
   "execution_count": 2,
   "metadata": {},
   "outputs": [],
   "source": [
    "df_all = pd.read_csv('../data/data_all.csv', index_col='index')\n",
    "df_first = pd.read_csv('../data/data_firstfixation.csv', index_col='index')"
   ]
  },
  {
   "cell_type": "markdown",
   "metadata": {},
   "source": [
    "## Salience mass"
   ]
  },
  {
   "cell_type": "markdown",
   "metadata": {},
   "source": [
    "#### Read CSVs as DataFrame"
   ]
  },
  {
   "cell_type": "code",
   "execution_count": 3,
   "metadata": {},
   "outputs": [],
   "source": [
    "df_mass = pd.read_csv('../data/salience_mass_trials.csv', index_col='index')"
   ]
  },
  {
   "cell_type": "markdown",
   "metadata": {},
   "source": [
    "#### Normalize salience mass"
   ]
  },
  {
   "cell_type": "code",
   "execution_count": 4,
   "metadata": {},
   "outputs": [],
   "source": [
    "mass_total_gbvs = df_mass.gbvs_left + df_mass.gbvs_right\n",
    "mass_total_deepgaze = df_mass.deepgaze_left + df_mass.deepgaze_right\n",
    "\n",
    "df_mass.gbvs_left = df_mass.gbvs_left / mass_total_gbvs\n",
    "df_mass.gbvs_right = df_mass.gbvs_right / mass_total_gbvs\n",
    "\n",
    "df_mass.deepgaze_left = df_mass.deepgaze_left / mass_total_deepgaze\n",
    "df_mass.deepgaze_right = df_mass.deepgaze_right / mass_total_deepgaze"
   ]
  },
  {
   "cell_type": "markdown",
   "metadata": {},
   "source": [
    "#### Add deltas"
   ]
  },
  {
   "cell_type": "code",
   "execution_count": 5,
   "metadata": {},
   "outputs": [],
   "source": [
    "df_mass['mass_delta_gbvs'] = df_mass['gbvs_left'] - df_mass['gbvs_right']\n",
    "df_mass['mass_delta_deepgaze'] = df_mass['deepgaze_left'] - df_mass['deepgaze_right']"
   ]
  },
  {
   "cell_type": "markdown",
   "metadata": {},
   "source": [
    "#### Add salience mass to df_first"
   ]
  },
  {
   "cell_type": "code",
   "execution_count": 6,
   "metadata": {},
   "outputs": [],
   "source": [
    "df_first = df_first.merge(df_mass, left_on='idx_trial_subj', right_on='idx_trial_subj')"
   ]
  },
  {
   "cell_type": "markdown",
   "metadata": {},
   "source": [
    "### Dwell time"
   ]
  },
  {
   "cell_type": "markdown",
   "metadata": {},
   "source": [
    "#### Read CSVs as DataFrame"
   ]
  },
  {
   "cell_type": "code",
   "execution_count": 7,
   "metadata": {},
   "outputs": [],
   "source": [
    "df_time = pd.read_csv('../data/data_time.csv', index_col='index')"
   ]
  },
  {
   "cell_type": "markdown",
   "metadata": {},
   "source": [
    "#### Add dwell time to df_first"
   ]
  },
  {
   "cell_type": "code",
   "execution_count": 8,
   "metadata": {},
   "outputs": [],
   "source": [
    "columns_diff = df_time.columns.difference(df_first.columns)\n",
    "columns_diff = columns_diff.insert(0, 'idx_trial_subj')\n",
    "df_first = df_first.merge(right=df_time[columns_diff], how='left', left_on='idx_trial_subj', \n",
    "                          right_on='idx_trial_subj')"
   ]
  },
  {
   "cell_type": "markdown",
   "metadata": {},
   "source": [
    "## Image categories"
   ]
  },
  {
   "cell_type": "markdown",
   "metadata": {},
   "source": [
    "#### Read categories as a dictionary"
   ]
  },
  {
   "cell_type": "code",
   "execution_count": 9,
   "metadata": {},
   "outputs": [],
   "source": [
    "categories_dict = yaml.load(open('../data/categories.yml', 'r'), Loader=yaml.FullLoader)"
   ]
  },
  {
   "cell_type": "code",
   "execution_count": 10,
   "metadata": {},
   "outputs": [],
   "source": [
    "df_categories = pd.DataFrame(columns=['image', 'category'])\n",
    "\n",
    "idx = 0\n",
    "for k, v in categories_dict.items():\n",
    "    if k == 'ambiguous':\n",
    "        continue\n",
    "    else:\n",
    "        d = pd.DataFrame({'image': v, \n",
    "                          'category': k},\n",
    "                         index=np.arange(idx, idx + len(v)).tolist())\n",
    "        idx = idx + len(v)\n",
    "        df_categories = df_categories.append(d)"
   ]
  },
  {
   "cell_type": "markdown",
   "metadata": {},
   "source": [
    "## Coefficients from the trained model\n",
    "The global salience scores and the lateral, task and familiarity coefficients"
   ]
  },
  {
   "cell_type": "code",
   "execution_count": 11,
   "metadata": {},
   "outputs": [],
   "source": [
    "df_coeff = pd.read_csv('../data/coefficients_100runs.csv', index_col='index')\n",
    "\n",
    "zscores = df_coeff.filter(regex='zscores_*')\n",
    "subject_bias = df_coeff.filter(regex='subject_*')\n",
    "task_coeff = df_coeff.task\n",
    "familiarity_coeff = df_coeff.familiarity\n",
    "\n",
    "zscores_mean = zscores.mean(axis=0)\n",
    "zscores_std = zscores.std(axis=0)"
   ]
  },
  {
   "cell_type": "markdown",
   "metadata": {},
   "source": [
    "#### Add global salience scores to df_first"
   ]
  },
  {
   "cell_type": "code",
   "execution_count": 12,
   "metadata": {},
   "outputs": [],
   "source": [
    "d_scores_left = {'image_left': [int(s.split('_')[-1]) for s in zscores_mean.index],\n",
    "                 'global_salience_left': zscores_mean.values}\n",
    "df_scores_left = pd.DataFrame(d_scores_left)\n",
    "\n",
    "d_scores_right = {'image_right': [int(s.split('_')[-1]) for s in zscores_mean.index],\n",
    "                  'global_salience_right': zscores_mean.values}\n",
    "df_scores_right = pd.DataFrame(d_scores_right)"
   ]
  },
  {
   "cell_type": "code",
   "execution_count": 13,
   "metadata": {
    "scrolled": true
   },
   "outputs": [],
   "source": [
    "df_first = df_first.merge(df_scores_left, left_on='image_left', right_on='image_left')\n",
    "df_first = df_first.merge(df_scores_right, left_on='image_right', right_on='image_right')\n",
    "df_first['global_salience_delta'] = df_first['global_salience_left'] - df_first['global_salience_right']"
   ]
  },
  {
   "cell_type": "markdown",
   "metadata": {},
   "source": [
    "## Kullback-Leibler divergence (KLD)"
   ]
  },
  {
   "cell_type": "markdown",
   "metadata": {},
   "source": [
    "The KLD between visual salience distribution and first fixation distribution (computed elsewhere in MATLAB)"
   ]
  },
  {
   "cell_type": "code",
   "execution_count": 14,
   "metadata": {},
   "outputs": [],
   "source": [
    "kld_gbvs = loadmat('../data/kld_gbvs.mat')\n",
    "kld_deepgaze = loadmat('../data/kld_deepgaze.mat')"
   ]
  },
  {
   "cell_type": "markdown",
   "metadata": {},
   "source": [
    "# Plot settings"
   ]
  },
  {
   "cell_type": "code",
   "execution_count": 15,
   "metadata": {},
   "outputs": [],
   "source": [
    "sns.set(style=\"whitegrid\")\n",
    "fontsize = 15"
   ]
  },
  {
   "cell_type": "markdown",
   "metadata": {},
   "source": [
    "## Colour palettes"
   ]
  },
  {
   "cell_type": "code",
   "execution_count": 16,
   "metadata": {},
   "outputs": [
    {
     "data": {
      "image/png": "[encoded data removed]",
      "text/plain": [
       "<Figure size 576x72 with 1 Axes>"
      ]
     },
     "metadata": {},
     "output_type": "display_data"
    }
   ],
   "source": [
    "sns.palplot(sns.color_palette('Set1', n_colors=8, desat=.7))"
   ]
  },
  {
   "cell_type": "code",
   "execution_count": 17,
   "metadata": {},
   "outputs": [
    {
     "data": {
      "image/png": "[encoded data removed]",
      "text/plain": [
       "<Figure size 576x72 with 1 Axes>"
      ]
     },
     "metadata": {},
     "output_type": "display_data"
    }
   ],
   "source": [
    "sns.palplot(sns.color_palette('Set2', n_colors=8, desat=.8))"
   ]
  },
  {
   "cell_type": "code",
   "execution_count": 18,
   "metadata": {},
   "outputs": [
    {
     "data": {
      "image/png": "[encoded data removed]",
      "text/plain": [
       "<Figure size 576x72 with 1 Axes>"
      ]
     },
     "metadata": {},
     "output_type": "display_data"
    }
   ],
   "source": [
    "sns.palplot(sns.color_palette('Set3', n_colors=8))"
   ]
  },
  {
   "cell_type": "code",
   "execution_count": 19,
   "metadata": {},
   "outputs": [
    {
     "data": {
      "image/png": "[encoded data removed]",
      "text/plain": [
       "<Figure size 720x72 with 1 Axes>"
      ]
     },
     "metadata": {},
     "output_type": "display_data"
    }
   ],
   "source": [
    "sns.palplot(sns.color_palette('colorblind'))"
   ]
  },
  {
   "cell_type": "markdown",
   "metadata": {},
   "source": [
    "### Image categories"
   ]
  },
  {
   "cell_type": "code",
   "execution_count": 20,
   "metadata": {},
   "outputs": [
    {
     "data": {
      "image/png": "[encoded data removed]",
      "text/plain": [
       "<Figure size 432x72 with 1 Axes>"
      ]
     },
     "metadata": {},
     "output_type": "display_data"
    }
   ],
   "source": [
    "color_faces = sns.color_palette('Set1', n_colors=8, desat=.7)[3]\n",
    "color_humans = sns.color_palette('Set1', n_colors=8, desat=.7)[4]\n",
    "color_urban = sns.color_palette('Set1', n_colors=8, desat=.7)[1]\n",
    "color_indoor = sns.color_palette('Set1', n_colors=8, desat=.7)[0]\n",
    "color_natural = sns.color_palette('Set1', n_colors=8, desat=.7)[2]\n",
    "color_noise = sns.color_palette('Set1', n_colors=8, desat=.7)[7]\n",
    "categories_palette = [color_faces, color_humans, color_urban, color_indoor, color_natural, color_noise]\n",
    "categories_order = ['faces', 'humans', 'urban', 'indoor', 'natural', 'noise']\n",
    "sns.palplot(categories_palette)"
   ]
  },
  {
   "cell_type": "markdown",
   "metadata": {},
   "source": [
    "### Left - Right"
   ]
  },
  {
   "cell_type": "code",
   "execution_count": 21,
   "metadata": {},
   "outputs": [
    {
     "data": {
      "image/png": "[encoded data removed]",
      "text/plain": [
       "<Figure size 144x72 with 1 Axes>"
      ]
     },
     "metadata": {},
     "output_type": "display_data"
    },
    {
     "data": {
      "image/png": "[encoded data removed]",
      "text/plain": [
       "<Figure size 144x72 with 1 Axes>"
      ]
     },
     "metadata": {},
     "output_type": "display_data"
    }
   ],
   "source": [
    "color_right = sns.color_palette('Set3', n_colors=8, desat=1.)[4]\n",
    "color_left = sns.color_palette('Set1', n_colors=8, desat=.7)[0]\n",
    "lr_palette = [color_left, color_right]\n",
    "lr_palette_bnw = [sns.desaturate(color_left, 0.), sns.desaturate(color_right, 0.)]\n",
    "sns.palplot(lr_palette)\n",
    "sns.palplot(lr_palette_bnw)"
   ]
  },
  {
   "cell_type": "markdown",
   "metadata": {},
   "source": [
    "### Select new - Select old"
   ]
  },
  {
   "cell_type": "code",
   "execution_count": 22,
   "metadata": {},
   "outputs": [
    {
     "data": {
      "image/png": "[encoded data removed]",
      "text/plain": [
       "<Figure size 144x72 with 1 Axes>"
      ]
     },
     "metadata": {},
     "output_type": "display_data"
    },
    {
     "data": {
      "image/png": "[encoded data removed]",
      "text/plain": [
       "<Figure size 144x72 with 1 Axes>"
      ]
     },
     "metadata": {},
     "output_type": "display_data"
    }
   ],
   "source": [
    "color_selnew = sns.color_palette('Set1', n_colors=8, desat=.6)[3]\n",
    "color_selold = sns.color_palette('Set3', n_colors=8, desat=.9)[6]\n",
    "sel_palette = [color_selnew, color_selold]\n",
    "sel_palette_bnw = [sns.desaturate(color_selnew, 0.), sns.desaturate(color_selold, 0.)]\n",
    "sns.palplot(sel_palette)\n",
    "sns.palplot(sel_palette_bnw)"
   ]
  },
  {
   "cell_type": "markdown",
   "metadata": {},
   "source": [
    "### Scatter"
   ]
  },
  {
   "cell_type": "code",
   "execution_count": 23,
   "metadata": {},
   "outputs": [
    {
     "data": {
      "image/png": "[encoded data removed]",
      "text/plain": [
       "<Figure size 288x72 with 1 Axes>"
      ]
     },
     "metadata": {},
     "output_type": "display_data"
    },
    {
     "data": {
      "image/png": "[encoded data removed]",
      "text/plain": [
       "<Figure size 288x72 with 1 Axes>"
      ]
     },
     "metadata": {},
     "output_type": "display_data"
    }
   ],
   "source": [
    "color_scatter_main = sns.color_palette('Set1', n_colors=8, desat=.7)[1]\n",
    "color_scatter2 = sns.color_palette('Set3', n_colors=8)[4]\n",
    "color_scatter3 = sns.color_palette('Set3', n_colors=8)[2]\n",
    "color_scatter4 = sns.color_palette('Set3', n_colors=8)[0]\n",
    "colors_scatter = [color_scatter_main, color_scatter2, color_scatter3, color_scatter4]\n",
    "colors_scatter_bnw = [sns.desaturate(color_scatter_main, 0.), sns.desaturate(color_scatter2, 0.), \n",
    "                      sns.desaturate(color_scatter3, 0.), sns.desaturate(color_scatter4, 0.)]\n",
    "sns.palplot(colors_scatter)\n",
    "sns.palplot(colors_scatter_bnw)"
   ]
  },
  {
   "cell_type": "markdown",
   "metadata": {},
   "source": [
    "# Plots"
   ]
  },
  {
   "cell_type": "markdown",
   "metadata": {},
   "source": [
    "## Global salience per category"
   ]
  },
  {
   "cell_type": "markdown",
   "metadata": {},
   "source": [
    "#### Create data frame"
   ]
  },
  {
   "cell_type": "code",
   "execution_count": null,
   "metadata": {
    "scrolled": false
   },
   "outputs": [],
   "source": [
    "columns = ['category', 'salience', 'image']\n",
    "df_globsal_cat = pd.DataFrame(columns=columns)\n",
    "\n",
    "idx = 0\n",
    "for image in df_first.image_left.unique():\n",
    "    \n",
    "    globsal_left =  np.asarray(df_first.loc[df_first.image_left == image]['global_salience_left'])\n",
    "    globsal_right =  np.asarray(df_first.loc[df_first.image_right == image]['global_salience_right'])\n",
    "    globsal_all = np.concatenate((globsal_left, globsal_right))\n",
    "    globsal = globsal_all[0]\n",
    "    for globsal_el in globsal_all:\n",
    "        if globsal_el != globsal:\n",
    "            print('Error!')\n",
    "            \n",
    "    category_left =  np.asarray(df_first.loc[df_first.image_left == image]['category_left'])\n",
    "    category_right =  np.asarray(df_first.loc[df_first.image_right == image]['category_right'])\n",
    "    category_all = np.concatenate((category_left, category_right))\n",
    "    category = category_all[0]\n",
    "    for category_el in category_all:\n",
    "        if category_el != category:\n",
    "            print('Error!')\n",
    "    \n",
    "    d = pd.DataFrame({'category': category, \n",
    "                      'salience': globsal,\n",
    "                      'image': image},\n",
    "                      index=[idx])\n",
    "    df_globsal_cat = df_globsal_cat.append(d)\n",
    "    idx += 1"
   ]
  },
  {
   "cell_type": "markdown",
   "metadata": {},
   "source": [
    "#### Plot"
   ]
  },
  {
   "cell_type": "code",
   "execution_count": null,
   "metadata": {},
   "outputs": [],
   "source": [
    "do_save = False\n",
    "\n",
    "# Initialize the matplotlib figure\n",
    "f, ax = plt.subplots(figsize=(14, 5))\n",
    "\n",
    "sns.swarmplot(data=df_globsal_cat,\n",
    "              x='salience', \n",
    "              y='category',\n",
    "              order=['faces', 'humans', 'urban', 'indoor', 'natural', 'noise'],\n",
    "              palette=categories_palette,\n",
    "              size=8.);\n",
    "\n",
    "# Change Y-Tick labels\n",
    "ax.set_yticklabels(['Faces', 'Humans', 'Urban', 'Indoor', 'Natural', 'Noise'], \n",
    "                   fontsize=fontsize);\n",
    "\n",
    "# Remove Y-label\n",
    "ax.set_ylabel(ylabel='');\n",
    "\n",
    "# Change X-Tick labels\n",
    "xlim = [-3., 2.1]\n",
    "xticks = np.arange(xlim[0], xlim[1], 0.5);\n",
    "ax.set(xticks=xticks);\n",
    "plt.setp(ax.get_xticklabels(), fontsize=fontsize);\n",
    "\n",
    "# Set X-label\n",
    "ax.set_xlabel(xlabel='Global Salience',\n",
    "              fontsize=fontsize);\n",
    "\n",
    "# Change spines\n",
    "sns.despine(left=True, bottom=True)\n",
    "\n",
    "# Save figure\n",
    "if do_save:\n",
    "    plt.tight_layout()\n",
    "    plt.savefig('global_salience.png', dpi=f.dpi * 3, bbox_inches='tight')"
   ]
  },
  {
   "cell_type": "markdown",
   "metadata": {},
   "source": [
    "## Left/right per blocks and subjects"
   ]
  },
  {
   "cell_type": "markdown",
   "metadata": {},
   "source": [
    "#### Create data frame"
   ]
  },
  {
   "cell_type": "code",
   "execution_count": null,
   "metadata": {},
   "outputs": [],
   "source": [
    "columns = ['pct_left', 'total', 'block', 'subject']\n",
    "df_lr_blocks = pd.DataFrame(columns=columns)\n",
    "\n",
    "idx = 0\n",
    "for block in np.unique(df_first['block']):\n",
    "    for subject in np.unique(df_first['subject_index']):\n",
    "        df_block_subj = df_first.loc[(df_first.block == block) & (df_first.subject_index == subject)]\n",
    "        n_left = np.sum(df_block_subj['is_left'])\n",
    "        n_right = np.sum(df_block_subj['is_right'])\n",
    "        if n_left + n_right != len(df_block_subj):\n",
    "            print('Error: left + right != total')\n",
    "        else:\n",
    "            d = pd.DataFrame({'block': block, \n",
    "                              'subject': subject,\n",
    "                              'pct_left': np.divide(float(n_left), len(df_block_subj)),\n",
    "                              'total': 1.0},\n",
    "                              index=[idx])\n",
    "            df_lr_blocks = df_lr_blocks.append(d)\n",
    "            idx += 1"
   ]
  },
  {
   "cell_type": "markdown",
   "metadata": {},
   "source": [
    "#### Plot"
   ]
  },
  {
   "cell_type": "code",
   "execution_count": null,
   "metadata": {},
   "outputs": [],
   "source": [
    "do_save = False\n",
    "\n",
    "# Initialize the matplotlib figure\n",
    "f, ax = plt.subplots(figsize=(14, 3))\n",
    "\n",
    "# Plot the total (right)\n",
    "sns.barplot(data=df_lr_blocks,\n",
    "            x='total', y='block',\n",
    "            orient='h', \n",
    "            label='right', color=color_right, ci=None)\n",
    "\n",
    "# Plot the left\n",
    "sns.barplot(data=df_lr_blocks,\n",
    "            x='pct_left', y='block', \n",
    "            orient='h', \n",
    "            label='left', color=color_left,\n",
    "            errcolor='black', errwidth=1.5, capsize=.1)\n",
    "\n",
    "# Draw line at 0.5\n",
    "y = np.arange(ax.get_ylim()[1]+0.1, ax.get_ylim()[0], 0.1)\n",
    "x = 0.5 * np.ones(y.shape[0])\n",
    "ax.plot(x, y, linestyle=':', linewidth=1.5, color='black')\n",
    "\n",
    "# Change Y-Tick labels\n",
    "yticklabels = ['Block {}'.format(ytick.get_text()) for ytick in ax.get_yticklabels()]\n",
    "ax.set_yticklabels(yticklabels, \n",
    "                   fontsize=fontsize);\n",
    "\n",
    "# Remove Y-label\n",
    "ax.set_ylabel(ylabel='');\n",
    "\n",
    "# Change X-Tick labels\n",
    "xlim = [0., 1.1]\n",
    "xticks = np.arange(xlim[0], xlim[1], 0.1);\n",
    "ax.set(xticks=xticks);\n",
    "plt.setp(ax.get_xticklabels(), fontsize=fontsize);\n",
    "\n",
    "# Set X-label\n",
    "ax.set_xlabel(xlabel='Percentage of first saccades to the left | right',\n",
    "              y=-5.,\n",
    "              visible=True,\n",
    "              fontsize=fontsize);\n",
    "\n",
    "# Change spines\n",
    "sns.despine(left=True, bottom=True)\n",
    "\n",
    "# Save figure\n",
    "if do_save:\n",
    "    plt.tight_layout()\n",
    "    plt.savefig('first_saccade_blocks.png', dpi=f.dpi * 3, bbox_inches='tight')"
   ]
  },
  {
   "cell_type": "markdown",
   "metadata": {},
   "source": [
    "## New/old per task"
   ]
  },
  {
   "cell_type": "markdown",
   "metadata": {},
   "source": [
    "#### Create data frame"
   ]
  },
  {
   "cell_type": "code",
   "execution_count": null,
   "metadata": {},
   "outputs": [],
   "source": [
    "dict_newold = {2: 'new image', 3: 'old image'}\n",
    "columns = ['pct_new', 'total', 'task']\n",
    "df_newold_task = pd.DataFrame(columns=columns)\n",
    "\n",
    "idx = 0\n",
    "for block in np.unique(df_first['block']):\n",
    "    if (block == 1) | (block == 4):\n",
    "        continue\n",
    "    for subject in np.unique(df_first['subject_index']):\n",
    "        df_block_subj = df_first.loc[(df_first.block == block) & (df_first.subject_index == subject)]\n",
    "        n_new = len(df_block_subj.loc[(df_block_subj.is_left) & (df_block_subj.left_is_new)]) + \\\n",
    "                len(df_block_subj.loc[(df_block_subj.is_right) & (df_block_subj.right_is_new)])\n",
    "        n_old = len(df_block_subj.loc[(df_block_subj.is_left) & (df_block_subj.right_is_new)]) + \\\n",
    "                len(df_block_subj.loc[(df_block_subj.is_right) & (df_block_subj.left_is_new)])\n",
    "        if n_new + n_old != len(df_block_subj):\n",
    "            print('Error: new ({}) + old ({}) != total ({}) - Subject {} Block {}'.format(\n",
    "                n_new, n_old, len(df_block_subj), subject, block))\n",
    "        else:\n",
    "            d = pd.DataFrame({'task': dict_newold[block], \n",
    "                              'subject': subject,\n",
    "                              'pct_new': np.divide(float(n_new), len(df_block_subj)),\n",
    "                              'total': 1.0},\n",
    "                              index=[idx])\n",
    "            df_newold_task = df_newold_task.append(d)\n",
    "            idx += 1"
   ]
  },
  {
   "cell_type": "markdown",
   "metadata": {},
   "source": [
    "#### Plot"
   ]
  },
  {
   "cell_type": "code",
   "execution_count": null,
   "metadata": {},
   "outputs": [],
   "source": [
    "do_save = False\n",
    "\n",
    "# Initialize the matplotlib figure\n",
    "f, ax = plt.subplots(figsize=(14, 2))\n",
    "\n",
    "# Plot the total (right)\n",
    "sns.barplot(data=df_newold_task,\n",
    "            x='total', y='task', \n",
    "            label='old', color=color_selold)\n",
    "\n",
    "# Plot the left\n",
    "sns.barplot(data=df_newold_task,\n",
    "            x='pct_new', y='task', \n",
    "            label='new', color=color_selnew,\n",
    "            errcolor='black', errwidth=1.5, capsize=.1)\n",
    "\n",
    "# Draw line at 0.5\n",
    "y = np.arange(ax.get_ylim()[1]+0.1, ax.get_ylim()[0], 0.1)\n",
    "x = 0.5 * np.ones(y.shape[0])\n",
    "ax.plot(x, y, linestyle=':', linewidth=1.5, color='black')\n",
    "\n",
    "# Change Y-Tick labels\n",
    "ax.set_yticklabels(['Select\\nnew image', 'Select\\nold image'], \n",
    "                   fontsize=fontsize);\n",
    "\n",
    "# Remove Y-label\n",
    "ax.set_ylabel(ylabel='');\n",
    "\n",
    "# Change X-Tick labels\n",
    "xlim = [0., 1.1]\n",
    "xticks = np.arange(xlim[0], xlim[1], 0.1);\n",
    "ax.set(xticks=xticks);\n",
    "plt.setp(ax.get_xticklabels(), fontsize=fontsize);\n",
    "\n",
    "# Set X-label\n",
    "ax.set_xlabel(xlabel='Percentage of first saccades on the new | old image',\n",
    "              y=-5.,\n",
    "              visible=True,\n",
    "              fontsize=fontsize);\n",
    "\n",
    "# Change spines\n",
    "sns.despine(left=True, bottom=True)\n",
    "\n",
    "# Save figure\n",
    "if do_save:\n",
    "    plt.tight_layout()\n",
    "    plt.savefig('first_saccade_tasks.png', dpi=f.dpi * 3, bbox_inches='tight')"
   ]
  },
  {
   "cell_type": "markdown",
   "metadata": {},
   "source": [
    "## Dwell time per blocks and subjects"
   ]
  },
  {
   "cell_type": "markdown",
   "metadata": {},
   "source": [
    "#### Plot"
   ]
  },
  {
   "cell_type": "code",
   "execution_count": null,
   "metadata": {},
   "outputs": [],
   "source": [
    "do_save = False\n",
    "\n",
    "# Initialize the matplotlib figure\n",
    "f, ax = plt.subplots(figsize=(14, 3))\n",
    "\n",
    "# Plot the total (right)\n",
    "sns.barplot(x=np.ones(len(df_first), dtype=float), y='block', orient='h', data=df_first,\n",
    "            label='right', color=color_right, ci=None)\n",
    "\n",
    "# Plot the left\n",
    "sns.barplot(x='time_left', y='block', orient='h', data=df_first,\n",
    "            label='left', color=color_left,\n",
    "            errcolor='black', errwidth=1.5, capsize=.1)\n",
    "\n",
    "# Draw line at 0.5\n",
    "y = np.arange(ax.get_ylim()[1]+0.1, ax.get_ylim()[0], 0.1)\n",
    "x = 0.5 * np.ones(y.shape[0])\n",
    "ax.plot(x, y, linestyle=':', linewidth=1.5, color='black')\n",
    "\n",
    "# Change Y-Tick labels\n",
    "yticklabels = ['Block {}'.format(ytick.get_text()) for ytick in ax.get_yticklabels()]\n",
    "ax.set_yticklabels(yticklabels, \n",
    "                   fontsize=fontsize);\n",
    "\n",
    "# Remove Y-label\n",
    "ax.set_ylabel(ylabel='');\n",
    "\n",
    "# Change X-Tick labels\n",
    "xlim = [0., 1.1]\n",
    "xticks = np.arange(xlim[0], xlim[1], 0.1);\n",
    "ax.set(xticks=xticks);\n",
    "plt.setp(ax.get_xticklabels(), fontsize=fontsize);\n",
    "\n",
    "# Set X-label\n",
    "ax.set_xlabel(xlabel='Relative dwell time on the image on the left | right',\n",
    "              y=-5.,\n",
    "              visible=True,\n",
    "              fontsize=fontsize);\n",
    "\n",
    "# Change spines\n",
    "sns.despine(left=True, bottom=True)\n",
    "\n",
    "# Save figure\n",
    "if do_save:\n",
    "    plt.tight_layout()\n",
    "    plt.savefig('dwell_blocks.png', dpi=f.dpi * 3, bbox_inches='tight')"
   ]
  },
  {
   "cell_type": "markdown",
   "metadata": {},
   "source": [
    "## Dwell time on new/old per task"
   ]
  },
  {
   "cell_type": "markdown",
   "metadata": {},
   "source": [
    "#### Create data frame"
   ]
  },
  {
   "cell_type": "code",
   "execution_count": null,
   "metadata": {},
   "outputs": [],
   "source": [
    "df_first_sel = df_first.loc[(df_first.block == 2) | (df_first.block == 3)]"
   ]
  },
  {
   "cell_type": "markdown",
   "metadata": {},
   "source": [
    "#### Plot"
   ]
  },
  {
   "cell_type": "code",
   "execution_count": null,
   "metadata": {},
   "outputs": [],
   "source": [
    "do_save = False\n",
    "\n",
    "# Initialize the matplotlib figure\n",
    "f, ax = plt.subplots(figsize=(14, 2))\n",
    "\n",
    "# Plot the total (right)\n",
    "sns.barplot(x=np.ones(len(df_first_sel), dtype=float), y='block', orient='h', data=df_first_sel,\n",
    "            label='right', color=color_selold, ci=None)\n",
    "\n",
    "# Plot the left\n",
    "sns.barplot(x='time_left', y='block', orient='h', data=df_first_sel.loc[df_first_sel.new_image == True],\n",
    "            label='left', color=color_selnew,\n",
    "            errcolor='black', errwidth=1.5, capsize=.1)\n",
    "\n",
    "# Draw line at 0.5\n",
    "y = np.arange(ax.get_ylim()[1]+0.1, ax.get_ylim()[0], 0.1)\n",
    "x = 0.5 * np.ones(y.shape[0])\n",
    "ax.plot(x, y, linestyle=':', linewidth=1.5, color='black')\n",
    "\n",
    "# Change Y-Tick labels\n",
    "yticklabels = ['Select\\nnew image', 'Select\\nold image']\n",
    "ax.set_yticklabels(yticklabels, \n",
    "                   fontsize=fontsize);\n",
    "\n",
    "# Remove Y-label\n",
    "ax.set_ylabel(ylabel='');\n",
    "\n",
    "# Change X-Tick labels\n",
    "xlim = [0., 1.1]\n",
    "xticks = np.arange(xlim[0], xlim[1], 0.1);\n",
    "ax.set(xticks=xticks);\n",
    "plt.setp(ax.get_xticklabels(), fontsize=fontsize);\n",
    "\n",
    "# Set X-label\n",
    "ax.set_xlabel(xlabel='Relative dwell time on the new | old image',\n",
    "              y=-5.,\n",
    "              visible=True,\n",
    "              fontsize=fontsize);\n",
    "\n",
    "# Change spines\n",
    "sns.despine(left=True, bottom=True)\n",
    "\n",
    "# Save figure\n",
    "if do_save:\n",
    "    plt.tight_layout()\n",
    "    plt.savefig('dwell_fam_task.png', dpi=f.dpi * 3, bbox_inches='tight')"
   ]
  },
  {
   "cell_type": "markdown",
   "metadata": {},
   "source": [
    "## Dwell time vs. global salience"
   ]
  },
  {
   "cell_type": "markdown",
   "metadata": {},
   "source": [
    "#### Create data frame\n",
    "Average the dwell time of each image over all the trials"
   ]
  },
  {
   "cell_type": "code",
   "execution_count": null,
   "metadata": {},
   "outputs": [],
   "source": [
    "columns = ['image', 'dwell_time', 'global_salience']\n",
    "df_scores = pd.DataFrame(columns=columns)\n",
    "\n",
    "idx = 0\n",
    "for image in sorted(df_first.image_left.unique()):\n",
    "    dwt_left = df_first.loc[df_first.image_left == image].time_left\n",
    "    dwt_right = df_first.loc[df_first.image_right == image].time_right\n",
    "    dwell_time = np.mean(np.concatenate((dwt_left, dwt_right), axis=0))\n",
    "    \n",
    "    global_salience_left = np.asarray(df_first.loc[df_first.image_left == image]['global_salience_left'])\n",
    "    global_salience_right = np.asarray(df_first.loc[df_first.image_right == image]['global_salience_right'])\n",
    "    global_salience = np.concatenate((global_salience_left, global_salience_right))\n",
    "    global_salience_val = global_salience[0]\n",
    "    for global_salience_el in global_salience:\n",
    "        if global_salience_el != global_salience_val:\n",
    "            print('Error!')    \n",
    "        \n",
    "    d = pd.DataFrame({'image': image, \n",
    "                      'dwell_time': dwell_time,\n",
    "                      'global_salience': global_salience_val},\n",
    "                      index=[idx])\n",
    "    idx += 1\n",
    "    df_scores = df_scores.append(d)"
   ]
  },
  {
   "cell_type": "markdown",
   "metadata": {},
   "source": [
    "#### Add categories"
   ]
  },
  {
   "cell_type": "code",
   "execution_count": null,
   "metadata": {},
   "outputs": [],
   "source": [
    "df_scores = df_scores.merge(df_categories, left_on='image', right_on='image')"
   ]
  },
  {
   "cell_type": "markdown",
   "metadata": {},
   "source": [
    "#### Plot - no colors categories"
   ]
  },
  {
   "cell_type": "code",
   "execution_count": null,
   "metadata": {},
   "outputs": [],
   "source": [
    "do_save = False\n",
    "\n",
    "# Initialize the matplotlib figure\n",
    "f, ax = plt.subplots()\n",
    "\n",
    "sns.regplot(x='global_salience', \n",
    "            y='dwell_time', \n",
    "            data=df_scores,\n",
    "            color=colors_scatter[0]);\n",
    "\n",
    "# Change Y-Tick labels\n",
    "plt.setp(ax.get_yticklabels(), fontsize=fontsize*0.8);\n",
    "\n",
    "# Set Y-label\n",
    "ax.set_ylabel(ylabel='Relative dwell time [s]', fontsize=fontsize);\n",
    "\n",
    "# Change X-Tick labels\n",
    "xlim = [-3.0, ax.get_xlim()[1]]\n",
    "ax.set_xlim(xlim)\n",
    "xticks = np.arange(xlim[0], xlim[1], 0.5);\n",
    "ax.set(xticks=xticks);\n",
    "plt.setp(ax.get_xticklabels(), fontsize=fontsize*0.8);\n",
    "\n",
    "\n",
    "# Set X-label\n",
    "ax.set_xlabel(xlabel='Global image salience scores',\n",
    "              fontsize=fontsize);\n",
    "\n",
    "# Change spines\n",
    "# sns.despine(left=True, bottom=True, right=True)\n",
    "\n",
    "# Annotate correlation coefficient\n",
    "pearsonr = np.corrcoef(df_scores.dwell_time, df_scores.global_salience)[0, 1]\n",
    "ax.annotate('Pearson $r = {:.2f}$'.format(pearsonr), xy=(-2.75, 0.63), fontsize=fontsize)\n",
    "\n",
    "# Save figure\n",
    "if do_save:\n",
    "    plt.tight_layout()\n",
    "    plt.savefig('dwell_scores.png', dpi=f.dpi * 3, bbox_inches='tight')"
   ]
  },
  {
   "cell_type": "markdown",
   "metadata": {},
   "source": [
    "#### Plot - colors categories"
   ]
  },
  {
   "cell_type": "code",
   "execution_count": null,
   "metadata": {},
   "outputs": [],
   "source": [
    "do_save = False\n",
    "\n",
    "# Initialize the matplotlib figure\n",
    "# f, ax = plt.subplots(figsize=(8, 8))\n",
    "f, ax = plt.subplots()\n",
    "\n",
    "# Adjust axes limits\n",
    "ylim = [0.1, 0.8]\n",
    "ax.set_ylim(ylim)\n",
    "xlim = [-3., 2.25]\n",
    "ax.set_xlim(xlim)\n",
    "\n",
    "sns.regplot(x='global_salience', \n",
    "            y='dwell_time', \n",
    "            data=df_scores,\n",
    "            color=colors_scatter[0],\n",
    "            scatter=False,\n",
    "            truncate=False);\n",
    "sns.scatterplot(x='global_salience', \n",
    "                y='dwell_time', \n",
    "                data=df_scores,\n",
    "                hue='category',\n",
    "                hue_order=categories_order,\n",
    "                palette=categories_palette,\n",
    "                legend=False);\n",
    "\n",
    "# Change Y-Tick labels\n",
    "plt.setp(ax.get_yticklabels(), fontsize=fontsize*0.8);\n",
    "\n",
    "# Set Y-label\n",
    "ax.set_ylabel(ylabel='Relative dwell time [s]', fontsize=fontsize);\n",
    "\n",
    "# Change X-Tick labels\n",
    "xticks = np.arange(xlim[0], xlim[1], 0.5);\n",
    "ax.set(xticks=xticks);\n",
    "plt.setp(ax.get_xticklabels(), fontsize=fontsize*0.8);\n",
    "\n",
    "\n",
    "# Set X-label\n",
    "ax.set_xlabel(xlabel='Global image salience scores',\n",
    "              fontsize=fontsize);\n",
    "\n",
    "# Change spines\n",
    "# sns.despine(left=True, bottom=True, right=True)\n",
    "\n",
    "# Annotate correlation coefficient\n",
    "pearsonr = np.corrcoef(df_scores.dwell_time, df_scores.global_salience)[0, 1]\n",
    "ax.annotate('Pearson $r = {:.2f}$'.format(pearsonr), xy=(-2.75, 0.63), fontsize=fontsize)\n",
    "\n",
    "# Save figure\n",
    "if do_save:\n",
    "    plt.tight_layout()\n",
    "    plt.savefig('dwell_scores.png', dpi=f.dpi * 3, bbox_inches='tight')"
   ]
  },
  {
   "cell_type": "code",
   "execution_count": null,
   "metadata": {},
   "outputs": [],
   "source": [
    "# pearsonr, pval = scipy.stats.pearsonr(df_scores.dwell_time, df_scores.global_salience)\n",
    "# print(pearsonr, pval)"
   ]
  },
  {
   "cell_type": "markdown",
   "metadata": {},
   "source": [
    "## Frequency of first saccades vs. subject bias"
   ]
  },
  {
   "cell_type": "markdown",
   "metadata": {},
   "source": [
    "#### Create data frame"
   ]
  },
  {
   "cell_type": "code",
   "execution_count": null,
   "metadata": {},
   "outputs": [],
   "source": [
    "columns = ['subject_index', 'pct_right', 'std_right', 'mean_subject_bias']\n",
    "subject_bias_df = pd.DataFrame(columns=columns)\n",
    "\n",
    "idx = 0\n",
    "for subject_index in df_first.subject_index.unique():\n",
    "    \n",
    "    n_right = np.sum(df_first.loc[df_first.subject_index == subject_index].is_right)\n",
    "    n_total = len(df_first.loc[df_first.subject_index == subject_index])\n",
    "    pct_right = float(n_right) / n_total\n",
    "            \n",
    "    d = pd.DataFrame({'subject_index': subject_index, \n",
    "                      'pct_right': pct_right,\n",
    "                      'mean_subject_bias': subject_bias['subject_{:d}'.format(subject_index)].mean()},\n",
    "                      index=[idx])\n",
    "    idx += 1\n",
    "    subject_bias_df = subject_bias_df.append(d)"
   ]
  },
  {
   "cell_type": "markdown",
   "metadata": {},
   "source": [
    "#### Plot"
   ]
  },
  {
   "cell_type": "code",
   "execution_count": null,
   "metadata": {
    "scrolled": false
   },
   "outputs": [],
   "source": [
    "do_save = False\n",
    "\n",
    "# Initialize the matplotlib figure\n",
    "f, ax = plt.subplots()\n",
    "\n",
    "sns.regplot(data=subject_bias_df,\n",
    "            x='pct_right', \n",
    "            y='mean_subject_bias',\n",
    "            color=colors_scatter[0]);\n",
    "\n",
    "# Change Y-Tick labels\n",
    "ylim = [-6., ax.get_ylim()[1]]\n",
    "ax.set_ylim(ylim)\n",
    "plt.setp(ax.get_yticklabels(), fontsize=fontsize*0.8);\n",
    "\n",
    "# Set Y-label\n",
    "ax.set_ylabel(ylabel='Lateral bias coefficient\\nlearned by the model', fontsize=fontsize);\n",
    "\n",
    "# Change X-Tick labels\n",
    "xlim = [ax.get_xlim()[0], 0.8]\n",
    "ax.set_xlim(xlim)\n",
    "plt.setp(ax.get_xticklabels(), fontsize=fontsize*0.8);\n",
    "\n",
    "# Set X-label\n",
    "ax.set_xlabel(xlabel='Percentage of first fixations on the right image',\n",
    "              fontsize=fontsize);\n",
    "\n",
    "# Annotate correlation coefficient\n",
    "pearsonr = np.corrcoef(subject_bias_df.pct_right, subject_bias_df.mean_subject_bias)[0, 1]\n",
    "ax.annotate('Pearson $r = {:.2f}$'.format(pearsonr), xy=(0.03, 2.20), fontsize=fontsize)\n",
    "\n",
    "# Save figure\n",
    "if do_save:\n",
    "    plt.tight_layout()\n",
    "    plt.savefig('subject_bias.png', dpi=f.dpi * 3, bbox_inches='tight')"
   ]
  },
  {
   "cell_type": "markdown",
   "metadata": {},
   "source": [
    "## Delta mass vs. delta global scores"
   ]
  },
  {
   "cell_type": "markdown",
   "metadata": {},
   "source": [
    "#### Create data frames"
   ]
  },
  {
   "cell_type": "code",
   "execution_count": null,
   "metadata": {},
   "outputs": [],
   "source": [
    "df_noise_left = df_first.loc[df_first.category_left == 'noise']\n",
    "df_noise_right = df_first.loc[df_first.category_right == 'noise']\n",
    "df_faces_left = df_first.loc[df_first.category_left == 'faces']\n",
    "df_faces_right = df_first.loc[df_first.category_right == 'faces']\n",
    "df_nonoise = df_first.loc[(df_first.category_left != 'noise') & (df_first.category_right != 'noise')]\n",
    "df_nonoise_nofaces = df_first.loc[(df_first.category_left != 'noise') & (df_first.category_right != 'noise') &\n",
    "                                  (df_first.category_left != 'faces') & (df_first.category_right != 'faces')]\n",
    "df_humans = df_first.loc[(df_first.category_left == 'humans') & (df_first.category_right == 'humans')]"
   ]
  },
  {
   "cell_type": "markdown",
   "metadata": {},
   "source": [
    "#### GBVS - Plot"
   ]
  },
  {
   "cell_type": "code",
   "execution_count": null,
   "metadata": {},
   "outputs": [],
   "source": [
    "do_save = False\n",
    "\n",
    "# Initialize the matplotlib figure\n",
    "f, ax = plt.subplots(figsize=(14, 10))\n",
    "\n",
    "fontsize_thisplot = 20\n",
    "\n",
    "sns.regplot(x='global_salience_delta', \n",
    "            y='mass_delta_gbvs', \n",
    "            data=df_nonoise,\n",
    "            color=colors_scatter[0]);\n",
    "\n",
    "sns.regplot(x='global_salience_delta', \n",
    "            y='mass_delta_gbvs', \n",
    "            data=df_noise_left,\n",
    "            color=colors_scatter[1],\n",
    "            fit_reg=False);\n",
    "\n",
    "sns.regplot(x='global_salience_delta', \n",
    "            y='mass_delta_gbvs', \n",
    "            data=df_noise_right,\n",
    "            color=colors_scatter[2],\n",
    "            fit_reg=False);\n",
    "\n",
    "sns.regplot(x='global_salience_delta', \n",
    "            y='mass_delta_gbvs', \n",
    "            data=df_first,\n",
    "            color=colors_scatter[3],\n",
    "            scatter=False);\n",
    "\n",
    "# Annotate correlation coefficient\n",
    "pearsonr_nonoise = np.corrcoef(df_nonoise.global_salience_delta, df_nonoise.mass_delta_gbvs)[0, 1]\n",
    "pearsonr_all = np.corrcoef(df_first.global_salience_delta, df_first.mass_delta_gbvs)[0, 1]\n",
    "\n",
    "legend_elements = [Line2D([0], [0], marker='o', color='w', label='Neither image is noise',\n",
    "                          markerfacecolor=colors_scatter[0], linestyle='', markersize=10),\n",
    "                   Line2D([0], [0], marker='o', color='w', label='Left is noise',\n",
    "                          markerfacecolor=colors_scatter[1], linestyle='', markersize=10),\n",
    "                   Line2D([0], [0], marker='o', color='w', label='Right is noise',\n",
    "                          markerfacecolor=colors_scatter[2], linestyle='', markersize=10),\n",
    "                   Line2D([0], [0], color=colors_scatter[0], lw=4, \n",
    "                          label='Linear fit excluding noise (r = {:.2f})'.format(pearsonr_nonoise)),\n",
    "                   Line2D([0], [0], color=colors_scatter[3], lw=4, \n",
    "                          label='Linear fit including noise (r = {:.2f})'.format(pearsonr_all))]\n",
    "\n",
    "# Change tick labels fontsize\n",
    "plt.setp(ax.get_xticklabels(), fontsize=fontsize_thisplot*0.9);\n",
    "plt.setp(ax.get_yticklabels(), fontsize=fontsize_thisplot*0.9);\n",
    "\n",
    "# Legends\n",
    "leg1 = ax.legend(handles=legend_elements[:3], loc='upper left', fontsize=fontsize_thisplot * 0.9)\n",
    "leg2 = ax.legend(handles=legend_elements[3:], loc='lower right', fontsize=fontsize_thisplot * 0.9)\n",
    "ax.add_artist(leg1)\n",
    "\n",
    "# Set X-label\n",
    "ax.set_xlabel('$\\Delta_{GS}$ Global salience score [left - right]',\n",
    "              fontsize=fontsize_thisplot);\n",
    "\n",
    "# Set Y-label\n",
    "ax.set_ylabel('$\\Delta_{M}$ GBVS Salience mass [left - right]',\n",
    "              fontsize=fontsize_thisplot);\n",
    "\n",
    "# Save figure\n",
    "if do_save:\n",
    "    f.savefig('mass_vs_globsal_gbvs.png', dpi=f.dpi * 3, bbox_inches='tight')"
   ]
  },
  {
   "cell_type": "code",
   "execution_count": null,
   "metadata": {},
   "outputs": [],
   "source": [
    "# pearsonr_nonoise, pval_nonoise = scipy.stats.pearsonr(df_nonoise.global_salience_delta, df_nonoise.mass_delta_gbvs)\n",
    "# print(pearsonr_nonoise, pval_nonoise)\n",
    "# pearsonr_all, pval_all = scipy.stats.pearsonr(df_first.global_salience_delta, df_first.mass_delta_gbvs)\n",
    "# print(pearsonr_all, pval_all)"
   ]
  },
  {
   "cell_type": "markdown",
   "metadata": {},
   "source": [
    "#### Deep Gaze - Plot"
   ]
  },
  {
   "cell_type": "code",
   "execution_count": null,
   "metadata": {},
   "outputs": [],
   "source": [
    "do_save = False\n",
    "\n",
    "# Initialize the matplotlib figure\n",
    "f, ax = plt.subplots(figsize=(14, 10))\n",
    "\n",
    "fontsize_thisplot = 20\n",
    "\n",
    "sns.regplot(x='global_salience_delta', \n",
    "            y='mass_delta_deepgaze', \n",
    "            data=df_nonoise,\n",
    "            color=colors_scatter[0]);\n",
    "\n",
    "sns.regplot(x='global_salience_delta', \n",
    "            y='mass_delta_deepgaze', \n",
    "            data=df_noise_left,\n",
    "            color=colors_scatter[1],\n",
    "            fit_reg=False);\n",
    "\n",
    "sns.regplot(x='global_salience_delta', \n",
    "            y='mass_delta_deepgaze', \n",
    "            data=df_noise_right,\n",
    "            color=colors_scatter[2],\n",
    "            fit_reg=False);\n",
    "\n",
    "sns.regplot(x='global_salience_delta', \n",
    "            y='mass_delta_deepgaze', \n",
    "            data=df_first,\n",
    "            color=colors_scatter[3],\n",
    "            scatter=False);\n",
    "\n",
    "# Annotate correlation coefficient\n",
    "pearsonr_nonoise = np.corrcoef(df_nonoise.global_salience_delta, df_nonoise.mass_delta_deepgaze)[0, 1]\n",
    "pearsonr_all = np.corrcoef(df_first.global_salience_delta, df_first.mass_delta_deepgaze)[0, 1]\n",
    "\n",
    "legend_elements = [Line2D([0], [0], marker='o', color='w', label='Neither image is noise',\n",
    "                          markerfacecolor=colors_scatter[0], linestyle='', markersize=10),\n",
    "                   Line2D([0], [0], marker='o', color='w', label='Left is noise',\n",
    "                          markerfacecolor=colors_scatter[1], linestyle='', markersize=10),\n",
    "                   Line2D([0], [0], marker='o', color='w', label='Right is noise',\n",
    "                          markerfacecolor=colors_scatter[2], linestyle='', markersize=10),\n",
    "                   Line2D([0], [0], color=colors_scatter[0], lw=4, \n",
    "                          label='Linear fit excluding noise (r = {:.2f})'.format(pearsonr_nonoise)),\n",
    "                   Line2D([0], [0], color=colors_scatter[3], lw=4, \n",
    "                          label='Linear fit including noise (r = {:.2f})'.format(pearsonr_all))]\n",
    "\n",
    "# Change tick labels fontsize\n",
    "plt.setp(ax.get_xticklabels(), fontsize=fontsize_thisplot*0.9);\n",
    "plt.setp(ax.get_yticklabels(), fontsize=fontsize_thisplot*0.9);\n",
    "\n",
    "# Legends\n",
    "leg1 = ax.legend(handles=legend_elements[:3], loc='upper left', fontsize=fontsize_thisplot * 0.9)\n",
    "leg2 = ax.legend(handles=legend_elements[3:], loc='lower right', fontsize=fontsize_thisplot * 0.9)\n",
    "ax.add_artist(leg1)\n",
    "\n",
    "# Set X-label\n",
    "ax.set_xlabel('$\\Delta_{GS}$ Global salience score [left - right]',\n",
    "              fontsize=fontsize_thisplot);\n",
    "\n",
    "# Set Y-label\n",
    "ax.set_ylabel('$\\Delta_{M}$ Deep Gaze Salience mass [left - right]',\n",
    "              fontsize=fontsize_thisplot);\n",
    "\n",
    "# Save figure\n",
    "if do_save:\n",
    "    f.savefig('mass_vs_globsal_deepgaze.png', dpi=f.dpi * 3, bbox_inches='tight')"
   ]
  },
  {
   "cell_type": "code",
   "execution_count": null,
   "metadata": {},
   "outputs": [],
   "source": [
    "# pearsonr_nonoise, pval_nonoise = scipy.stats.pearsonr(df_nonoise.global_salience_delta, df_nonoise.mass_delta_deepgaze)\n",
    "# print(pearsonr_nonoise, pval_nonoise)\n",
    "# pearsonr_all, pval_all = scipy.stats.pearsonr(df_first.global_salience_delta, df_first.mass_delta_deepgaze)\n",
    "# print(pearsonr_all, pval_all)"
   ]
  },
  {
   "cell_type": "markdown",
   "metadata": {},
   "source": [
    "## KLD vs. global scores"
   ]
  },
  {
   "cell_type": "markdown",
   "metadata": {},
   "source": [
    "#### Creata data frame"
   ]
  },
  {
   "cell_type": "code",
   "execution_count": null,
   "metadata": {},
   "outputs": [],
   "source": [
    "df_kld = pd.DataFrame({'global_salience': zscores_mean.values, \n",
    "                       'gbvs': kld_gbvs['KLD'][0],\n",
    "                       'deepgaze': kld_deepgaze['KLD'][:, 1],\n",
    "                       'categories': df_categories.sort_values(by='image')['category'].values})"
   ]
  },
  {
   "cell_type": "markdown",
   "metadata": {},
   "source": [
    "### GBVS"
   ]
  },
  {
   "cell_type": "markdown",
   "metadata": {},
   "source": [
    "#### Plot - no colors categories"
   ]
  },
  {
   "cell_type": "code",
   "execution_count": null,
   "metadata": {},
   "outputs": [],
   "source": [
    "do_save = False\n",
    "\n",
    "# Initialize the matplotlib figure\n",
    "f, ax = plt.subplots()\n",
    "\n",
    "sns.regplot(x='global_salience', \n",
    "            y='gbvs', \n",
    "            data=df_kld,\n",
    "            color=colors_scatter[0]);\n",
    "\n",
    "# Change Y-Tick labels\n",
    "# ylim = [ax.get_ylim()[0], ax.get_ylim()[1]]\n",
    "ylim = [0., ax.get_ylim()[1]]\n",
    "ax.set_ylim(ylim)\n",
    "plt.setp(ax.get_yticklabels(), fontsize=fontsize*0.8);\n",
    "\n",
    "# Set Y-label\n",
    "ax.set_ylabel(ylabel='$D_{KL}(F_{j}||S_{j}^{GBVS})$', fontsize=fontsize);\n",
    "\n",
    "# Change X-Tick labels\n",
    "xlim = [-3.0, ax.get_xlim()[1]]\n",
    "ax.set_xlim(xlim)\n",
    "plt.setp(ax.get_xticklabels(), fontsize=fontsize*0.8);\n",
    "\n",
    "# Set X-label\n",
    "ax.set_xlabel(xlabel='Global image salience scores',\n",
    "              fontsize=fontsize);\n",
    "\n",
    "# Change spines\n",
    "# sns.despine(left=True, bottom=True, right=True)\n",
    "\n",
    "# Annotate correlation coefficient\n",
    "pearsonr = np.corrcoef(df_kld.gbvs, df_kld.global_salience)[0, 1]\n",
    "ax.annotate('Pearson $r = {:.2f}$'.format(pearsonr), xy=(-2.75, 2.65), fontsize=fontsize)\n",
    "\n",
    "# Save figure\n",
    "if do_save:\n",
    "    plt.tight_layout()\n",
    "    plt.savefig('kld_vs_globsal_gbvs.png', dpi=f.dpi * 3, bbox_inches='tight')"
   ]
  },
  {
   "cell_type": "markdown",
   "metadata": {},
   "source": [
    "#### Plot - colors categories"
   ]
  },
  {
   "cell_type": "code",
   "execution_count": null,
   "metadata": {},
   "outputs": [],
   "source": [
    "do_save = False\n",
    "\n",
    "# Initialize the matplotlib figure\n",
    "f, ax = plt.subplots()\n",
    "\n",
    "# Adjust axes limits\n",
    "ylim = [0., np.max(df_kld.gbvs) + 0.2]\n",
    "ax.set_ylim(ylim)\n",
    "xlim = [np.min(df_kld.global_salience) - 0.2, np.max(df_kld.global_salience) + 0.2]\n",
    "ax.set_xlim(xlim)\n",
    "\n",
    "sns.regplot(x='global_salience', \n",
    "            y='gbvs', \n",
    "            data=df_kld,\n",
    "            color=colors_scatter[0],\n",
    "            scatter=False,\n",
    "            truncate=False);\n",
    "sns.scatterplot(x='global_salience', \n",
    "            y='gbvs', \n",
    "            data=df_kld,\n",
    "            hue='categories',\n",
    "            hue_order=categories_order,\n",
    "            palette=categories_palette,\n",
    "            legend=False);\n",
    "\n",
    "# Change Y label\n",
    "plt.setp(ax.get_yticklabels(), fontsize=fontsize*0.8);\n",
    "\n",
    "# Set Y-label\n",
    "ax.set_ylabel(ylabel='$D_{KL}(F_{j}||S_{j}^{GBVS})$', fontsize=fontsize);\n",
    "\n",
    "# Change X-Tick labels\n",
    "plt.setp(ax.get_xticklabels(), fontsize=fontsize*0.8);\n",
    "\n",
    "# Set X-label\n",
    "ax.set_xlabel(xlabel='Global image salience scores',\n",
    "              fontsize=fontsize);\n",
    "\n",
    "# Change spines\n",
    "# sns.despine(left=True, bottom=True, right=True)\n",
    "\n",
    "# Annotate correlation coefficient\n",
    "pearsonr = np.corrcoef(df_kld.gbvs, df_kld.global_salience)[0, 1]\n",
    "ax.annotate('Pearson $r = {:.2f}$'.format(pearsonr), xy=(-2.75, 2.65), fontsize=fontsize)\n",
    "\n",
    "# Save figure\n",
    "if do_save:\n",
    "    plt.tight_layout()\n",
    "    plt.savefig('kld_vs_globsal_gbvs.png', dpi=f.dpi * 3, bbox_inches='tight')"
   ]
  },
  {
   "cell_type": "markdown",
   "metadata": {},
   "source": [
    "### DeepGaze"
   ]
  },
  {
   "cell_type": "markdown",
   "metadata": {},
   "source": [
    "#### Plot - no colors categories"
   ]
  },
  {
   "cell_type": "code",
   "execution_count": null,
   "metadata": {},
   "outputs": [],
   "source": [
    "do_save = False\n",
    "\n",
    "# Initialize the matplotlib figure\n",
    "f, ax = plt.subplots()\n",
    "\n",
    "sns.regplot(x='global_salience', \n",
    "            y='deepgaze', \n",
    "            data=df_kld,\n",
    "            color=colors_scatter[0]);\n",
    "\n",
    "# Change Y-Tick labels\n",
    "ylim = [0., ax.get_ylim()[1]]\n",
    "ax.set_ylim(ylim)\n",
    "plt.setp(ax.get_yticklabels(), fontsize=fontsize*0.8);\n",
    "\n",
    "# Set Y-label\n",
    "ax.set_ylabel(ylabel='$D_{KL}(F_{j}||S_{j}^{DG})$', fontsize=fontsize);\n",
    "\n",
    "# Change X-Tick labels\n",
    "xlim = [-3.0, ax.get_xlim()[1]]\n",
    "ax.set_xlim(xlim)\n",
    "plt.setp(ax.get_xticklabels(), fontsize=fontsize*0.8);\n",
    "\n",
    "# Set X-label\n",
    "ax.set_xlabel(xlabel='Global image salience scores',\n",
    "              fontsize=fontsize);\n",
    "\n",
    "# Change spines\n",
    "# sns.despine(left=True, bottom=True, right=True)\n",
    "\n",
    "# Annotate correlation coefficient\n",
    "pearsonr = np.corrcoef(df_kld.deepgaze, df_kld.global_salience)[0, 1]\n",
    "ax.annotate('Pearson $r = {:.2f}$'.format(pearsonr), xy=(-0.5, 2.65), fontsize=fontsize)\n",
    "\n",
    "# Save figure\n",
    "if do_save:\n",
    "    plt.tight_layout()\n",
    "    plt.savefig('kld_vs_globsal_deepgaze.png', dpi=f.dpi * 3, bbox_inches='tight')"
   ]
  },
  {
   "cell_type": "markdown",
   "metadata": {},
   "source": [
    "#### Plot - colors categories"
   ]
  },
  {
   "cell_type": "code",
   "execution_count": null,
   "metadata": {},
   "outputs": [],
   "source": [
    "do_save = False\n",
    "\n",
    "# Initialize the matplotlib figure\n",
    "f, ax = plt.subplots()\n",
    "\n",
    "# Adjust axes limits\n",
    "ylim = [0., np.max(df_kld.deepgaze) + 0.2]\n",
    "ax.set_ylim(ylim)\n",
    "xlim = [np.min(df_kld.global_salience) - 0.2, np.max(df_kld.global_salience) + 0.2]\n",
    "ax.set_xlim(xlim)\n",
    "\n",
    "sns.regplot(x='global_salience', \n",
    "            y='deepgaze', \n",
    "            data=df_kld,\n",
    "            color=colors_scatter[0],\n",
    "            scatter=False,\n",
    "            truncate=False);\n",
    "sns.scatterplot(x='global_salience', \n",
    "            y='deepgaze', \n",
    "            data=df_kld,\n",
    "            hue='categories',\n",
    "            hue_order=categories_order,\n",
    "            palette=categories_palette,\n",
    "            legend=False);\n",
    "\n",
    "# Change Y label\n",
    "plt.setp(ax.get_yticklabels(), fontsize=fontsize*0.8);\n",
    "\n",
    "# Set Y-label\n",
    "ax.set_ylabel(ylabel='$D_{KL}(F_{j}||S_{j}^{DG})$', fontsize=fontsize);\n",
    "\n",
    "# Change X-Tick labels\n",
    "plt.setp(ax.get_xticklabels(), fontsize=fontsize*0.8);\n",
    "\n",
    "# Set X-label\n",
    "ax.set_xlabel(xlabel='Global image salience scores',\n",
    "              fontsize=fontsize);\n",
    "\n",
    "# Change spines\n",
    "# sns.despine(left=True, bottom=True, right=True)\n",
    "\n",
    "# Annotate correlation coefficient\n",
    "pearsonr = np.corrcoef(df_kld.deepgaze, df_kld.global_salience)[0, 1]\n",
    "ax.annotate('Pearson $r = {:.2f}$'.format(pearsonr), xy=(-0.5, 2.65), fontsize=fontsize)\n",
    "\n",
    "# Save figure\n",
    "if do_save:\n",
    "    plt.tight_layout()\n",
    "    plt.savefig('kld_vs_globsal_deepgaze.png', dpi=f.dpi * 3, bbox_inches='tight')"
   ]
  },
  {
   "cell_type": "markdown",
   "metadata": {},
   "source": [
    "### DeepGaze vs. GBVS"
   ]
  },
  {
   "cell_type": "markdown",
   "metadata": {},
   "source": [
    "#### Plot - no colors categories"
   ]
  },
  {
   "cell_type": "code",
   "execution_count": null,
   "metadata": {},
   "outputs": [],
   "source": [
    "do_save = False\n",
    "\n",
    "# Initialize the matplotlib figure\n",
    "f, ax = plt.subplots()\n",
    "\n",
    "# Adjust axes limits\n",
    "ylim = [0., np.max(df_kld.deepgaze) + 0.2]\n",
    "ax.set_ylim(ylim)\n",
    "xlim = [0., np.max(df_kld.gbvs) + 0.2]\n",
    "ax.set_xlim(xlim)\n",
    "\n",
    "sns.regplot(x='gbvs', \n",
    "            y='deepgaze', \n",
    "            data=df_kld,\n",
    "            color=colors_scatter[0]);\n",
    "\n",
    "# Change Y-Tick labels\n",
    "plt.setp(ax.get_yticklabels(), fontsize=fontsize*0.8);\n",
    "\n",
    "# Set Y-label\n",
    "ax.set_ylabel(ylabel='$D_{KL}(F_{j}||S_{j}^{DG})$', \n",
    "              fontsize=fontsize);\n",
    "\n",
    "# Change X-Tick labels\n",
    "plt.setp(ax.get_xticklabels(), fontsize=fontsize*0.8);\n",
    "\n",
    "# Set X-label\n",
    "ax.set_xlabel(xlabel='$D_{KL}(F_{j}||S_{j}^{GBVS})$',\n",
    "              fontsize=fontsize);\n",
    "\n",
    "# Change spines\n",
    "# sns.despine(left=True, bottom=True, right=True)\n",
    "\n",
    "# Annotate correlation coefficient\n",
    "pearsonr = np.corrcoef(df_kld.gbvs, df_kld.deepgaze)[0, 1]\n",
    "ax.annotate('Pearson $r = {:.2f}$'.format(pearsonr), xy=(1.75, 0.65), fontsize=fontsize)\n",
    "\n",
    "# Save figure\n",
    "if do_save:\n",
    "    plt.tight_layout()\n",
    "    plt.savefig('kld_gbvs_vs_gbvs.png', dpi=f.dpi * 3, bbox_inches='tight')"
   ]
  },
  {
   "cell_type": "markdown",
   "metadata": {},
   "source": [
    "#### Plot - colors categories"
   ]
  },
  {
   "cell_type": "code",
   "execution_count": null,
   "metadata": {},
   "outputs": [],
   "source": [
    "do_save = True\n",
    "\n",
    "# Initialize the matplotlib figure\n",
    "f, ax = plt.subplots()\n",
    "\n",
    "# Adjust axes limits\n",
    "ylim = [0., np.max(df_kld.deepgaze) + 0.2]\n",
    "ax.set_ylim(ylim)\n",
    "xlim = [0., np.max(df_kld.gbvs) + 0.2]\n",
    "ax.set_xlim(xlim)\n",
    "\n",
    "sns.regplot(x='gbvs', \n",
    "            y='deepgaze', \n",
    "            data=df_kld,\n",
    "            color=colors_scatter[0],\n",
    "            scatter=False,\n",
    "            truncate=False);\n",
    "sns.scatterplot(x='gbvs', \n",
    "            y='deepgaze', \n",
    "            data=df_kld,\n",
    "            hue='categories',\n",
    "            hue_order=categories_order,\n",
    "            palette=categories_palette,\n",
    "            legend=False);\n",
    "\n",
    "# Change Y-Tick labels\n",
    "plt.setp(ax.get_yticklabels(), fontsize=fontsize*0.8);\n",
    "\n",
    "# Set Y-label\n",
    "ax.set_ylabel(ylabel='$D_{KL}(F_{j}||S_{j}^{DG})$', \n",
    "              fontsize=fontsize);\n",
    "\n",
    "# Change X-Tick labels\n",
    "plt.setp(ax.get_xticklabels(), fontsize=fontsize*0.8);\n",
    "\n",
    "# Set X-label\n",
    "ax.set_xlabel(xlabel='$D_{KL}(F_{j}||S_{j}^{GBVS})$',\n",
    "              fontsize=fontsize);\n",
    "\n",
    "# Change spines\n",
    "# sns.despine(left=True, bottom=True, right=True)\n",
    "\n",
    "# Annotate correlation coefficient\n",
    "pearsonr = np.corrcoef(df_kld.gbvs, df_kld.deepgaze)[0, 1]\n",
    "ax.annotate('Pearson $r = {:.2f}$'.format(pearsonr), xy=(1.75, 0.65), fontsize=fontsize)\n",
    "\n",
    "# Save figure\n",
    "if do_save:\n",
    "    plt.tight_layout()\n",
    "    plt.savefig('kld_gbvs_vs_deepgaze.png', dpi=f.dpi * 3, bbox_inches='tight')"
   ]
  },
  {
   "cell_type": "markdown",
   "metadata": {},
   "source": [
    "## KLD distribution"
   ]
  },
  {
   "cell_type": "markdown",
   "metadata": {},
   "source": [
    "#### GBVS - Plot"
   ]
  },
  {
   "cell_type": "code",
   "execution_count": null,
   "metadata": {},
   "outputs": [],
   "source": [
    "do_save = False\n",
    "\n",
    "# Initialize the matplotlib figure\n",
    "f, ax = plt.subplots(figsize=(12, 8))\n",
    "\n",
    "fontsize_this = 21\n",
    "\n",
    "sns.distplot(df_kld['gbvs'],\n",
    "             bins=20,\n",
    "             color=colors_scatter[0]);\n",
    "\n",
    "# Change Y-Tick labels\n",
    "plt.setp(ax.get_yticklabels(), fontsize=fontsize_this*0.8);\n",
    "\n",
    "# Set Y-label\n",
    "ax.set_ylabel(ylabel='Normalized frequency', fontsize=fontsize_this);\n",
    "\n",
    "# Change tick labels fontsize\n",
    "plt.setp(ax.get_xticklabels(), fontsize=fontsize_this*0.8);\n",
    "\n",
    "\n",
    "# Set X-label\n",
    "ax.set_xlabel(xlabel='$D_{KL}(F||S^{GBVS})$',\n",
    "              fontsize=fontsize_this);\n",
    "\n",
    "# Annotations\n",
    "ax.annotate('Min. (a)', xy=(np.min(df_kld['gbvs']), 0.), \n",
    "            xytext=(np.min(df_kld['gbvs']), 0.07),\n",
    "            fontsize=fontsize_this, ha='center',\n",
    "            arrowprops=dict(facecolor='black', width=0., headwidth=15., headlength=15., shrink=0.5))\n",
    "ax.annotate('Mean (b)', xy=(np.mean(df_kld['gbvs']), 0.), \n",
    "            xytext=(np.mean(df_kld['gbvs']), 0.07),\n",
    "            fontsize=fontsize_this, ha='center',\n",
    "            arrowprops=dict(facecolor='black', width=0., headwidth=15., headlength=15., shrink=0.5))\n",
    "ax.annotate('Max. (c)', xy=(np.max(df_kld['gbvs']), 0.), \n",
    "            xytext=(np.max(df_kld['gbvs']), 0.07),\n",
    "            fontsize=fontsize_this, ha='center',\n",
    "            arrowprops=dict(facecolor='black', width=0., headwidth=15., headlength=15., shrink=0.5))\n",
    "\n",
    "# Save figure\n",
    "if do_save:\n",
    "    plt.tight_layout()\n",
    "    plt.savefig('kld_distr_gbvs.png', dpi=f.dpi * 3, bbox_inches='tight')"
   ]
  },
  {
   "cell_type": "markdown",
   "metadata": {},
   "source": [
    "#### Deep Gaze - Plot"
   ]
  },
  {
   "cell_type": "code",
   "execution_count": null,
   "metadata": {},
   "outputs": [],
   "source": [
    "do_save = False\n",
    "\n",
    "# Initialize the matplotlib figure\n",
    "f, ax = plt.subplots(figsize=(12, 8))\n",
    "\n",
    "fontsize_this = 21\n",
    "\n",
    "sns.distplot(df_kld['deepgaze'],\n",
    "             bins=20,\n",
    "             color=colors_scatter[0]);\n",
    "\n",
    "# Change Y-Tick labels\n",
    "plt.setp(ax.get_yticklabels(), fontsize=fontsize_this*0.8);\n",
    "\n",
    "# Set Y-label\n",
    "ax.set_ylabel(ylabel='Normalized frequency', fontsize=fontsize_this);\n",
    "\n",
    "# Change tick labels fontsize\n",
    "plt.setp(ax.get_xticklabels(), fontsize=fontsize_this*0.8);\n",
    "\n",
    "\n",
    "# Set X-label\n",
    "ax.set_xlabel(xlabel='$D_{KL}(F||S^{DG})$',\n",
    "              fontsize=fontsize_this);\n",
    "\n",
    "# Annotations\n",
    "ax.annotate('Min. (a)', xy=(np.min(df_kld['deepgaze']), 0.), \n",
    "            xytext=(np.min(df_kld['deepgaze']), 0.07),\n",
    "            fontsize=fontsize_this, ha='center',\n",
    "            arrowprops=dict(facecolor='black', width=0., headwidth=15., headlength=15., shrink=0.5))\n",
    "ax.annotate('Mean (b)', xy=(np.mean(df_kld['deepgaze']), 0.), \n",
    "            xytext=(np.mean(df_kld['deepgaze']), 0.07),\n",
    "            fontsize=fontsize_this, ha='center',\n",
    "            arrowprops=dict(facecolor='black', width=0., headwidth=15., headlength=15., shrink=0.5))\n",
    "ax.annotate('Max. (c)', xy=(np.max(df_kld['deepgaze']), 0.), \n",
    "            xytext=(np.max(df_kld['deepgaze']), 0.07),\n",
    "            fontsize=fontsize_this, ha='center',\n",
    "            arrowprops=dict(facecolor='black', width=0., headwidth=15., headlength=15., shrink=0.5))\n",
    "\n",
    "# Save figure\n",
    "if do_save:\n",
    "    plt.tight_layout()\n",
    "    plt.savefig('kld_distr_deepgaze.png', dpi=f.dpi * 3, bbox_inches='tight')"
   ]
  },
  {
   "cell_type": "markdown",
   "metadata": {},
   "source": [
    "## Categories legend"
   ]
  },
  {
   "cell_type": "code",
   "execution_count": null,
   "metadata": {},
   "outputs": [],
   "source": [
    "do_save = False\n",
    "\n",
    "fontsize_thisplot = 20\n",
    "\n",
    "# Initialize the matplotlib figure\n",
    "f, ax = plt.subplots()\n",
    "plt.axis('off')\n",
    "\n",
    "legend_categories =  [Line2D([0], [0], marker='o', color='w', label=label, markerfacecolor=color, \n",
    "                             linestyle='', markersize=10) for label, color in \n",
    "                      zip(categories_order, categories_palette)]\n",
    "\n",
    "leg = ax.legend(handles=legend_categories, loc='best', fontsize=fontsize_thisplot * 0.9, \n",
    "                 ncol=len(categories_order), columnspacing=0.2, handletextpad=0.01, frameon=False)\n",
    "ax.add_artist(leg);\n",
    "\n",
    "if do_save:\n",
    "    plt.tight_layout()\n",
    "    plt.savefig('legend_categories.png', dpi=f.dpi * 3, bbox_inches='tight')"
   ]
  }
 ],
 "metadata": {
  "kernelspec": {
   "display_name": "Python 3",
   "language": "python",
   "name": "python3"
  },
  "language_info": {
   "codemirror_mode": {
    "name": "ipython",
    "version": 3
   },
   "file_extension": ".py",
   "mimetype": "text/x-python",
   "name": "python",
   "nbconvert_exporter": "python",
   "pygments_lexer": "ipython3",
   "version": "3.6.9"
  },
  "toc": {
   "base_numbering": 1,
   "nav_menu": {},
   "number_sections": false,
   "sideBar": true,
   "skip_h1_title": false,
   "title_cell": "Table of Contents",
   "title_sidebar": "Contents",
   "toc_cell": false,
   "toc_position": {
    "height": "756px",
    "left": "107px",
    "top": "111.133px",
    "width": "360px"
   },
   "toc_section_display": true,
   "toc_window_display": true
  }
 },
 "nbformat": 4,
 "nbformat_minor": 2
}
